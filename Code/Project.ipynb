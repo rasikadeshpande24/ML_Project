{
  "nbformat": 4,
  "nbformat_minor": 0,
  "metadata": {
    "colab": {
      "name": "Project.ipynb",
      "private_outputs": true,
      "provenance": [],
      "collapsed_sections": []
    },
    "kernelspec": {
      "name": "python3",
      "display_name": "Python 3"
    }
  },
  "cells": [
    {
      "cell_type": "code",
      "metadata": {
        "id": "m9HKju_7XQmo"
      },
      "source": [
        "import numpy as np\n",
        "import pandas as pd\n",
        "import matplotlib.pyplot as plt\n",
        "import matplotlib.cm as cm"
      ],
      "execution_count": null,
      "outputs": []
    },
    {
      "cell_type": "code",
      "metadata": {
        "id": "xIsP7UjzOWhI"
      },
      "source": [
        "data_test = pd.read_csv('test.csv')\r\n",
        "data_test.head()"
      ],
      "execution_count": null,
      "outputs": []
    },
    {
      "cell_type": "code",
      "metadata": {
        "id": "mwh0Iq1oOYTo"
      },
      "source": [
        "data_test.shape"
      ],
      "execution_count": null,
      "outputs": []
    },
    {
      "cell_type": "code",
      "metadata": {
        "id": "zSOOtqgUOaVK"
      },
      "source": [
        "category = {'A':1,'B':2,'C':3,'D':4,'E':5,'F':6,'G':7,'H':8}\r\n",
        "data_test[\"category\"]=data_test[\"category\"].map(category)\r\n",
        "data_test.head()"
      ],
      "execution_count": null,
      "outputs": []
    },
    {
      "cell_type": "code",
      "metadata": {
        "id": "ZQTbCw7uOcPc"
      },
      "source": [
        "data_test = data_test[data_test.views!='F']\r\n",
        "data_test = data_test[data_test.likes!='F']\r\n",
        "data_test = data_test[data_test.dislikes!='F']\r\n",
        "data_test = data_test[data_test.comment!='F']"
      ],
      "execution_count": null,
      "outputs": []
    },
    {
      "cell_type": "code",
      "metadata": {
        "id": "4Mlo7hM0OehJ"
      },
      "source": [
        "data_test[\"views\"]=pd.to_numeric(data_test[\"views\"])\r\n",
        "data_test[\"likes\"]=pd.to_numeric(data_test[\"likes\"])\r\n",
        "data_test[\"dislikes\"]=pd.to_numeric(data_test[\"dislikes\"])\r\n",
        "data_test[\"comment\"]=pd.to_numeric(data_test[\"comment\"])"
      ],
      "execution_count": null,
      "outputs": []
    },
    {
      "cell_type": "code",
      "metadata": {
        "id": "XmlWi0wDOhXJ"
      },
      "source": [
        "column_vidid = data_test['vidid']"
      ],
      "execution_count": null,
      "outputs": []
    },
    {
      "cell_type": "code",
      "metadata": {
        "id": "K9U3Miy2OjvR"
      },
      "source": [
        "from sklearn.preprocessing import LabelEncoder, MinMaxScaler\r\n",
        "data_test['duration'] = LabelEncoder().fit_transform(data_test['duration'])\r\n",
        "data_test['vidid'] = LabelEncoder().fit_transform(data_test['vidid'])\r\n",
        "data_test['published'] = LabelEncoder().fit_transform(data_test['published'])\r\n",
        "data_test.head()"
      ],
      "execution_count": null,
      "outputs": []
    },
    {
      "cell_type": "code",
      "metadata": {
        "id": "ThPas24yOmPf"
      },
      "source": [
        "import datetime\r\n",
        "import time"
      ],
      "execution_count": null,
      "outputs": []
    },
    {
      "cell_type": "code",
      "metadata": {
        "id": "mv0kKlZDOqFo"
      },
      "source": [
        "def checki(x):\r\n",
        "  y = x[2:]\r\n",
        "  h = ''\r\n",
        "  m = ''\r\n",
        "  s = ''\r\n",
        "  mm = ''\r\n",
        "  P = ['H','M','S']\r\n",
        "  for i in y:\r\n",
        "    if i not in P:\r\n",
        "      mm+=i\r\n",
        "    else:\r\n",
        "      if (i==\"H\"):\r\n",
        "        h = mm\r\n",
        "        mm = ''\r\n",
        "      elif (i == \"M\"):\r\n",
        "        m = mm\r\n",
        "        mm = ''\r\n",
        "      else:\r\n",
        "        s = mm\r\n",
        "        mm = ''\r\n",
        "  if (h==''):\r\n",
        "    h = '00'\r\n",
        "  if (m == ''):\r\n",
        "    m = '00'\r\n",
        "  if (s==''):\r\n",
        "    s='00'\r\n",
        "  bp = h+':'+m+':'+s\r\n",
        "  return bp\r\n",
        "\r\n",
        "test=pd.read_csv(\"test.csv\")\r\n",
        "mp = pd.read_csv(\"test.csv\")[\"duration\"]\r\n",
        "time = mp.apply(checki)"
      ],
      "execution_count": null,
      "outputs": []
    },
    {
      "cell_type": "code",
      "metadata": {
        "id": "RRK0H_EPOtaW"
      },
      "source": [
        "def func_sec(time_string):\r\n",
        "  h, m, s = time_string.split(':')\r\n",
        "  return int(h) * 3600 + int(m) * 60 + int(s)\r\n",
        "\r\n",
        "time1=time.apply(func_sec)"
      ],
      "execution_count": null,
      "outputs": []
    },
    {
      "cell_type": "code",
      "metadata": {
        "id": "r63YW2WIOv_W"
      },
      "source": [
        "data_test[\"duration\"]=time1\r\n",
        "data_test.head()"
      ],
      "execution_count": null,
      "outputs": []
    },
    {
      "cell_type": "code",
      "metadata": {
        "id": "ekA9IpvpOxn1"
      },
      "source": [
        "plt.hist(data_test[\"category\"])\r\n",
        "plt.show()"
      ],
      "execution_count": null,
      "outputs": []
    },
    {
      "cell_type": "code",
      "metadata": {
        "id": "qgcpEzq7O0of"
      },
      "source": [
        "Y_test_train = pd.DataFrame(data=data_test.iloc[:,1].values,columns=['target'])\r\n",
        "data_test = data_test.drop([\"vidid\"],axis=1)\r\n",
        "data_test.head()"
      ],
      "execution_count": null,
      "outputs": []
    },
    {
      "cell_type": "code",
      "metadata": {
        "id": "sxhETN9nO3U9"
      },
      "source": [
        "X_test_train, X_test_test, y_test_train, y_test_test = train_test_split(data_test, Y_test_train, test_size=0.2, random_state=42)\r\n",
        "X_test_train.shape"
      ],
      "execution_count": null,
      "outputs": []
    },
    {
      "cell_type": "code",
      "metadata": {
        "id": "6qTKc9u3O5Eo"
      },
      "source": [
        "from sklearn.preprocessing import MinMaxScaler\r\n",
        "scaler = MinMaxScaler()"
      ],
      "execution_count": null,
      "outputs": []
    },
    {
      "cell_type": "code",
      "metadata": {
        "id": "oxtvh09yO7_8"
      },
      "source": [
        "X_test_train = scaler.fit_transform(X_test_train)\r\n",
        "X_test_test = scaler.fit_transform(X_test_test)"
      ],
      "execution_count": null,
      "outputs": []
    },
    {
      "cell_type": "code",
      "metadata": {
        "id": "T07QyDL2XTwf"
      },
      "source": [
        "X_test_train.mean()"
      ],
      "execution_count": null,
      "outputs": []
    },
    {
      "cell_type": "code",
      "metadata": {
        "id": "M-3StF4UXcDV"
      },
      "source": [
        "mod = joblib.load(\"support_vector_regressor_youtubeadview.pkl\")\n",
        "pred = mod.predict(X_test_test)"
      ],
      "execution_count": null,
      "outputs": []
    },
    {
      "cell_type": "code",
      "metadata": {
        "id": "6JbnqHLCXex6"
      },
      "source": [
        "ad = {\"adview\":pred}\n",
        "dataFrame = pd.DataFrame(ad)\n",
        "dataFrame.to_csv(\"predictions.csv\")"
      ],
      "execution_count": null,
      "outputs": []
    }
  ]
}